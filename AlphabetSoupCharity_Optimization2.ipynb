{
  "cells": [
    {
      "cell_type": "code",
      "execution_count": 1,
      "metadata": {
        "colab": {
          "base_uri": "https://localhost:8080/",
          "height": 451
        },
        "id": "p6jYNsR6xrYm",
        "outputId": "178fc291-ee71-4382-f46f-1fd7043b6b34"
      },
      "outputs": [
        {
          "output_type": "execute_result",
          "data": {
            "text/plain": [
              "        EIN                                      NAME APPLICATION_TYPE  \\\n",
              "0  10520599              BLUE KNIGHTS MOTORCYCLE CLUB              T10   \n",
              "1  10531628    AMERICAN CHESAPEAKE CLUB CHARITABLE TR               T3   \n",
              "2  10547893        ST CLOUD PROFESSIONAL FIREFIGHTERS               T5   \n",
              "3  10553066            SOUTHSIDE ATHLETIC ASSOCIATION               T3   \n",
              "4  10556103  GENETIC RESEARCH INSTITUTE OF THE DESERT               T3   \n",
              "\n",
              "        AFFILIATION CLASSIFICATION      USE_CASE  ORGANIZATION  STATUS  \\\n",
              "0       Independent          C1000    ProductDev   Association       1   \n",
              "1       Independent          C2000  Preservation  Co-operative       1   \n",
              "2  CompanySponsored          C3000    ProductDev   Association       1   \n",
              "3  CompanySponsored          C2000  Preservation         Trust       1   \n",
              "4       Independent          C1000     Heathcare         Trust       1   \n",
              "\n",
              "      INCOME_AMT SPECIAL_CONSIDERATIONS  ASK_AMT  IS_SUCCESSFUL  \n",
              "0              0                      N     5000              1  \n",
              "1         1-9999                      N   108590              1  \n",
              "2              0                      N     5000              0  \n",
              "3    10000-24999                      N     6692              1  \n",
              "4  100000-499999                      N   142590              1  "
            ],
            "text/html": [
              "\n",
              "  <div id=\"df-1b616f7b-953a-47af-aa1f-4b4cf0a57c85\" class=\"colab-df-container\">\n",
              "    <div>\n",
              "<style scoped>\n",
              "    .dataframe tbody tr th:only-of-type {\n",
              "        vertical-align: middle;\n",
              "    }\n",
              "\n",
              "    .dataframe tbody tr th {\n",
              "        vertical-align: top;\n",
              "    }\n",
              "\n",
              "    .dataframe thead th {\n",
              "        text-align: right;\n",
              "    }\n",
              "</style>\n",
              "<table border=\"1\" class=\"dataframe\">\n",
              "  <thead>\n",
              "    <tr style=\"text-align: right;\">\n",
              "      <th></th>\n",
              "      <th>EIN</th>\n",
              "      <th>NAME</th>\n",
              "      <th>APPLICATION_TYPE</th>\n",
              "      <th>AFFILIATION</th>\n",
              "      <th>CLASSIFICATION</th>\n",
              "      <th>USE_CASE</th>\n",
              "      <th>ORGANIZATION</th>\n",
              "      <th>STATUS</th>\n",
              "      <th>INCOME_AMT</th>\n",
              "      <th>SPECIAL_CONSIDERATIONS</th>\n",
              "      <th>ASK_AMT</th>\n",
              "      <th>IS_SUCCESSFUL</th>\n",
              "    </tr>\n",
              "  </thead>\n",
              "  <tbody>\n",
              "    <tr>\n",
              "      <th>0</th>\n",
              "      <td>10520599</td>\n",
              "      <td>BLUE KNIGHTS MOTORCYCLE CLUB</td>\n",
              "      <td>T10</td>\n",
              "      <td>Independent</td>\n",
              "      <td>C1000</td>\n",
              "      <td>ProductDev</td>\n",
              "      <td>Association</td>\n",
              "      <td>1</td>\n",
              "      <td>0</td>\n",
              "      <td>N</td>\n",
              "      <td>5000</td>\n",
              "      <td>1</td>\n",
              "    </tr>\n",
              "    <tr>\n",
              "      <th>1</th>\n",
              "      <td>10531628</td>\n",
              "      <td>AMERICAN CHESAPEAKE CLUB CHARITABLE TR</td>\n",
              "      <td>T3</td>\n",
              "      <td>Independent</td>\n",
              "      <td>C2000</td>\n",
              "      <td>Preservation</td>\n",
              "      <td>Co-operative</td>\n",
              "      <td>1</td>\n",
              "      <td>1-9999</td>\n",
              "      <td>N</td>\n",
              "      <td>108590</td>\n",
              "      <td>1</td>\n",
              "    </tr>\n",
              "    <tr>\n",
              "      <th>2</th>\n",
              "      <td>10547893</td>\n",
              "      <td>ST CLOUD PROFESSIONAL FIREFIGHTERS</td>\n",
              "      <td>T5</td>\n",
              "      <td>CompanySponsored</td>\n",
              "      <td>C3000</td>\n",
              "      <td>ProductDev</td>\n",
              "      <td>Association</td>\n",
              "      <td>1</td>\n",
              "      <td>0</td>\n",
              "      <td>N</td>\n",
              "      <td>5000</td>\n",
              "      <td>0</td>\n",
              "    </tr>\n",
              "    <tr>\n",
              "      <th>3</th>\n",
              "      <td>10553066</td>\n",
              "      <td>SOUTHSIDE ATHLETIC ASSOCIATION</td>\n",
              "      <td>T3</td>\n",
              "      <td>CompanySponsored</td>\n",
              "      <td>C2000</td>\n",
              "      <td>Preservation</td>\n",
              "      <td>Trust</td>\n",
              "      <td>1</td>\n",
              "      <td>10000-24999</td>\n",
              "      <td>N</td>\n",
              "      <td>6692</td>\n",
              "      <td>1</td>\n",
              "    </tr>\n",
              "    <tr>\n",
              "      <th>4</th>\n",
              "      <td>10556103</td>\n",
              "      <td>GENETIC RESEARCH INSTITUTE OF THE DESERT</td>\n",
              "      <td>T3</td>\n",
              "      <td>Independent</td>\n",
              "      <td>C1000</td>\n",
              "      <td>Heathcare</td>\n",
              "      <td>Trust</td>\n",
              "      <td>1</td>\n",
              "      <td>100000-499999</td>\n",
              "      <td>N</td>\n",
              "      <td>142590</td>\n",
              "      <td>1</td>\n",
              "    </tr>\n",
              "  </tbody>\n",
              "</table>\n",
              "</div>\n",
              "    <div class=\"colab-df-buttons\">\n",
              "\n",
              "  <div class=\"colab-df-container\">\n",
              "    <button class=\"colab-df-convert\" onclick=\"convertToInteractive('df-1b616f7b-953a-47af-aa1f-4b4cf0a57c85')\"\n",
              "            title=\"Convert this dataframe to an interactive table.\"\n",
              "            style=\"display:none;\">\n",
              "\n",
              "  <svg xmlns=\"http://www.w3.org/2000/svg\" height=\"24px\" viewBox=\"0 -960 960 960\">\n",
              "    <path d=\"M120-120v-720h720v720H120Zm60-500h600v-160H180v160Zm220 220h160v-160H400v160Zm0 220h160v-160H400v160ZM180-400h160v-160H180v160Zm440 0h160v-160H620v160ZM180-180h160v-160H180v160Zm440 0h160v-160H620v160Z\"/>\n",
              "  </svg>\n",
              "    </button>\n",
              "\n",
              "  <style>\n",
              "    .colab-df-container {\n",
              "      display:flex;\n",
              "      gap: 12px;\n",
              "    }\n",
              "\n",
              "    .colab-df-convert {\n",
              "      background-color: #E8F0FE;\n",
              "      border: none;\n",
              "      border-radius: 50%;\n",
              "      cursor: pointer;\n",
              "      display: none;\n",
              "      fill: #1967D2;\n",
              "      height: 32px;\n",
              "      padding: 0 0 0 0;\n",
              "      width: 32px;\n",
              "    }\n",
              "\n",
              "    .colab-df-convert:hover {\n",
              "      background-color: #E2EBFA;\n",
              "      box-shadow: 0px 1px 2px rgba(60, 64, 67, 0.3), 0px 1px 3px 1px rgba(60, 64, 67, 0.15);\n",
              "      fill: #174EA6;\n",
              "    }\n",
              "\n",
              "    .colab-df-buttons div {\n",
              "      margin-bottom: 4px;\n",
              "    }\n",
              "\n",
              "    [theme=dark] .colab-df-convert {\n",
              "      background-color: #3B4455;\n",
              "      fill: #D2E3FC;\n",
              "    }\n",
              "\n",
              "    [theme=dark] .colab-df-convert:hover {\n",
              "      background-color: #434B5C;\n",
              "      box-shadow: 0px 1px 3px 1px rgba(0, 0, 0, 0.15);\n",
              "      filter: drop-shadow(0px 1px 2px rgba(0, 0, 0, 0.3));\n",
              "      fill: #FFFFFF;\n",
              "    }\n",
              "  </style>\n",
              "\n",
              "    <script>\n",
              "      const buttonEl =\n",
              "        document.querySelector('#df-1b616f7b-953a-47af-aa1f-4b4cf0a57c85 button.colab-df-convert');\n",
              "      buttonEl.style.display =\n",
              "        google.colab.kernel.accessAllowed ? 'block' : 'none';\n",
              "\n",
              "      async function convertToInteractive(key) {\n",
              "        const element = document.querySelector('#df-1b616f7b-953a-47af-aa1f-4b4cf0a57c85');\n",
              "        const dataTable =\n",
              "          await google.colab.kernel.invokeFunction('convertToInteractive',\n",
              "                                                    [key], {});\n",
              "        if (!dataTable) return;\n",
              "\n",
              "        const docLinkHtml = 'Like what you see? Visit the ' +\n",
              "          '<a target=\"_blank\" href=https://colab.research.google.com/notebooks/data_table.ipynb>data table notebook</a>'\n",
              "          + ' to learn more about interactive tables.';\n",
              "        element.innerHTML = '';\n",
              "        dataTable['output_type'] = 'display_data';\n",
              "        await google.colab.output.renderOutput(dataTable, element);\n",
              "        const docLink = document.createElement('div');\n",
              "        docLink.innerHTML = docLinkHtml;\n",
              "        element.appendChild(docLink);\n",
              "      }\n",
              "    </script>\n",
              "  </div>\n",
              "\n",
              "\n",
              "<div id=\"df-e0a74b1c-c9d4-4f97-b71b-6edf0370b983\">\n",
              "  <button class=\"colab-df-quickchart\" onclick=\"quickchart('df-e0a74b1c-c9d4-4f97-b71b-6edf0370b983')\"\n",
              "            title=\"Suggest charts.\"\n",
              "            style=\"display:none;\">\n",
              "\n",
              "<svg xmlns=\"http://www.w3.org/2000/svg\" height=\"24px\"viewBox=\"0 0 24 24\"\n",
              "     width=\"24px\">\n",
              "    <g>\n",
              "        <path d=\"M19 3H5c-1.1 0-2 .9-2 2v14c0 1.1.9 2 2 2h14c1.1 0 2-.9 2-2V5c0-1.1-.9-2-2-2zM9 17H7v-7h2v7zm4 0h-2V7h2v10zm4 0h-2v-4h2v4z\"/>\n",
              "    </g>\n",
              "</svg>\n",
              "  </button>\n",
              "\n",
              "<style>\n",
              "  .colab-df-quickchart {\n",
              "      --bg-color: #E8F0FE;\n",
              "      --fill-color: #1967D2;\n",
              "      --hover-bg-color: #E2EBFA;\n",
              "      --hover-fill-color: #174EA6;\n",
              "      --disabled-fill-color: #AAA;\n",
              "      --disabled-bg-color: #DDD;\n",
              "  }\n",
              "\n",
              "  [theme=dark] .colab-df-quickchart {\n",
              "      --bg-color: #3B4455;\n",
              "      --fill-color: #D2E3FC;\n",
              "      --hover-bg-color: #434B5C;\n",
              "      --hover-fill-color: #FFFFFF;\n",
              "      --disabled-bg-color: #3B4455;\n",
              "      --disabled-fill-color: #666;\n",
              "  }\n",
              "\n",
              "  .colab-df-quickchart {\n",
              "    background-color: var(--bg-color);\n",
              "    border: none;\n",
              "    border-radius: 50%;\n",
              "    cursor: pointer;\n",
              "    display: none;\n",
              "    fill: var(--fill-color);\n",
              "    height: 32px;\n",
              "    padding: 0;\n",
              "    width: 32px;\n",
              "  }\n",
              "\n",
              "  .colab-df-quickchart:hover {\n",
              "    background-color: var(--hover-bg-color);\n",
              "    box-shadow: 0 1px 2px rgba(60, 64, 67, 0.3), 0 1px 3px 1px rgba(60, 64, 67, 0.15);\n",
              "    fill: var(--button-hover-fill-color);\n",
              "  }\n",
              "\n",
              "  .colab-df-quickchart-complete:disabled,\n",
              "  .colab-df-quickchart-complete:disabled:hover {\n",
              "    background-color: var(--disabled-bg-color);\n",
              "    fill: var(--disabled-fill-color);\n",
              "    box-shadow: none;\n",
              "  }\n",
              "\n",
              "  .colab-df-spinner {\n",
              "    border: 2px solid var(--fill-color);\n",
              "    border-color: transparent;\n",
              "    border-bottom-color: var(--fill-color);\n",
              "    animation:\n",
              "      spin 1s steps(1) infinite;\n",
              "  }\n",
              "\n",
              "  @keyframes spin {\n",
              "    0% {\n",
              "      border-color: transparent;\n",
              "      border-bottom-color: var(--fill-color);\n",
              "      border-left-color: var(--fill-color);\n",
              "    }\n",
              "    20% {\n",
              "      border-color: transparent;\n",
              "      border-left-color: var(--fill-color);\n",
              "      border-top-color: var(--fill-color);\n",
              "    }\n",
              "    30% {\n",
              "      border-color: transparent;\n",
              "      border-left-color: var(--fill-color);\n",
              "      border-top-color: var(--fill-color);\n",
              "      border-right-color: var(--fill-color);\n",
              "    }\n",
              "    40% {\n",
              "      border-color: transparent;\n",
              "      border-right-color: var(--fill-color);\n",
              "      border-top-color: var(--fill-color);\n",
              "    }\n",
              "    60% {\n",
              "      border-color: transparent;\n",
              "      border-right-color: var(--fill-color);\n",
              "    }\n",
              "    80% {\n",
              "      border-color: transparent;\n",
              "      border-right-color: var(--fill-color);\n",
              "      border-bottom-color: var(--fill-color);\n",
              "    }\n",
              "    90% {\n",
              "      border-color: transparent;\n",
              "      border-bottom-color: var(--fill-color);\n",
              "    }\n",
              "  }\n",
              "</style>\n",
              "\n",
              "  <script>\n",
              "    async function quickchart(key) {\n",
              "      const quickchartButtonEl =\n",
              "        document.querySelector('#' + key + ' button');\n",
              "      quickchartButtonEl.disabled = true;  // To prevent multiple clicks.\n",
              "      quickchartButtonEl.classList.add('colab-df-spinner');\n",
              "      try {\n",
              "        const charts = await google.colab.kernel.invokeFunction(\n",
              "            'suggestCharts', [key], {});\n",
              "      } catch (error) {\n",
              "        console.error('Error during call to suggestCharts:', error);\n",
              "      }\n",
              "      quickchartButtonEl.classList.remove('colab-df-spinner');\n",
              "      quickchartButtonEl.classList.add('colab-df-quickchart-complete');\n",
              "    }\n",
              "    (() => {\n",
              "      let quickchartButtonEl =\n",
              "        document.querySelector('#df-e0a74b1c-c9d4-4f97-b71b-6edf0370b983 button');\n",
              "      quickchartButtonEl.style.display =\n",
              "        google.colab.kernel.accessAllowed ? 'block' : 'none';\n",
              "    })();\n",
              "  </script>\n",
              "</div>\n",
              "    </div>\n",
              "  </div>\n"
            ]
          },
          "metadata": {},
          "execution_count": 1
        }
      ],
      "source": [
        "# Import our dependencies\n",
        "from sklearn.model_selection import train_test_split\n",
        "from sklearn.preprocessing import StandardScaler\n",
        "import pandas as pd\n",
        "import tensorflow as tf\n",
        "\n",
        "#  Import and read the charity_data.csv.\n",
        "import pandas as pd\n",
        "application_df = pd.read_csv(\"https://static.bc-edx.com/data/dl-1-2/m21/lms/starter/charity_data.csv\")\n",
        "application_df.head()"
      ]
    },
    {
      "cell_type": "code",
      "execution_count": 2,
      "metadata": {
        "id": "RO5IuOu5xrYo"
      },
      "outputs": [],
      "source": [
        "# Drop the non-beneficial ID columns, 'EIN' and 'NAME'.\n",
        "application_df = application_df.drop(columns = ['EIN', 'NAME','STATUS', 'SPECIAL_CONSIDERATIONS'])\n",
        "#application_df"
      ]
    },
    {
      "cell_type": "code",
      "execution_count": 3,
      "metadata": {
        "colab": {
          "base_uri": "https://localhost:8080/"
        },
        "id": "657r0jVCxrYo",
        "outputId": "0f3fc49d-b47c-4b14-8af3-b621daab59c9"
      },
      "outputs": [
        {
          "output_type": "execute_result",
          "data": {
            "text/plain": [
              "APPLICATION_TYPE      17\n",
              "AFFILIATION            6\n",
              "CLASSIFICATION        71\n",
              "USE_CASE               5\n",
              "ORGANIZATION           4\n",
              "INCOME_AMT             9\n",
              "ASK_AMT             8747\n",
              "IS_SUCCESSFUL          2\n",
              "dtype: int64"
            ]
          },
          "metadata": {},
          "execution_count": 3
        }
      ],
      "source": [
        "# Determine the number of unique values in each column.\n",
        "application_df.nunique()"
      ]
    },
    {
      "cell_type": "code",
      "execution_count": 4,
      "metadata": {
        "colab": {
          "base_uri": "https://localhost:8080/"
        },
        "id": "-oIaWChVxrYo",
        "outputId": "08a11ab1-9fb8-4467-98c9-ade9aa20ede0"
      },
      "outputs": [
        {
          "output_type": "execute_result",
          "data": {
            "text/plain": [
              "T3     27037\n",
              "T4      1542\n",
              "T6      1216\n",
              "T5      1173\n",
              "T19     1065\n",
              "T8       737\n",
              "T7       725\n",
              "T10      528\n",
              "T9       156\n",
              "T13       66\n",
              "T12       27\n",
              "T2        16\n",
              "T25        3\n",
              "T14        3\n",
              "T29        2\n",
              "T15        2\n",
              "T17        1\n",
              "Name: APPLICATION_TYPE, dtype: int64"
            ]
          },
          "metadata": {},
          "execution_count": 4
        }
      ],
      "source": [
        "# Look at APPLICATION_TYPE value counts for binning\n",
        "type_counts = application_df['APPLICATION_TYPE'].value_counts()\n",
        "type_counts"
      ]
    },
    {
      "cell_type": "code",
      "execution_count": 5,
      "metadata": {
        "colab": {
          "base_uri": "https://localhost:8080/"
        },
        "id": "pTqumlKUxrYp",
        "outputId": "cea018d8-2eb9-42b2-b974-e0d6c105f74f"
      },
      "outputs": [
        {
          "output_type": "execute_result",
          "data": {
            "text/plain": [
              "T3       27037\n",
              "T4        1542\n",
              "T6        1216\n",
              "T5        1173\n",
              "T19       1065\n",
              "T8         737\n",
              "T7         725\n",
              "T10        528\n",
              "Other      276\n",
              "Name: APPLICATION_TYPE, dtype: int64"
            ]
          },
          "metadata": {},
          "execution_count": 5
        }
      ],
      "source": [
        "# Choose a cutoff value and create a list of application types to be replaced\n",
        "# use the variable name `application_types_to_replace`\n",
        "application_types_to_replace = list(type_counts.iloc[8:].index)\n",
        "cutoff_value = 528\n",
        "\n",
        "# Replace in dataframe\n",
        "for app in application_types_to_replace:\n",
        "    application_df['APPLICATION_TYPE'] = application_df['APPLICATION_TYPE'].replace(app,\"Other\")\n",
        "\n",
        "# Check to make sure binning was successful\n",
        "application_df['APPLICATION_TYPE'].value_counts()"
      ]
    },
    {
      "cell_type": "code",
      "execution_count": 6,
      "metadata": {
        "colab": {
          "base_uri": "https://localhost:8080/"
        },
        "id": "nTFuQtOSxrYp",
        "outputId": "5e85c0fa-b2a4-484e-c8da-497a87e92b37"
      },
      "outputs": [
        {
          "output_type": "execute_result",
          "data": {
            "text/plain": [
              "C1000    17326\n",
              "C2000     6074\n",
              "C1200     4837\n",
              "C3000     1918\n",
              "C2100     1883\n",
              "         ...  \n",
              "C4120        1\n",
              "C8210        1\n",
              "C2561        1\n",
              "C4500        1\n",
              "C2150        1\n",
              "Name: CLASSIFICATION, Length: 71, dtype: int64"
            ]
          },
          "metadata": {},
          "execution_count": 6
        }
      ],
      "source": [
        "# Look at CLASSIFICATION value counts for binning\n",
        "classification_types = application_df['CLASSIFICATION'].value_counts()\n",
        "classification_types"
      ]
    },
    {
      "cell_type": "code",
      "execution_count": 7,
      "metadata": {
        "colab": {
          "base_uri": "https://localhost:8080/"
        },
        "id": "lPweq_kxxrYq",
        "outputId": "b0bd71d2-c859-428e-adf1-82d590fe606b"
      },
      "outputs": [
        {
          "output_type": "execute_result",
          "data": {
            "text/plain": [
              "C1000    17326\n",
              "C2000     6074\n",
              "C1200     4837\n",
              "Other     2261\n",
              "C3000     1918\n",
              "C2100     1883\n",
              "Name: CLASSIFICATION, dtype: int64"
            ]
          },
          "metadata": {},
          "execution_count": 7
        }
      ],
      "source": [
        "# Choose a cutoff value and create a list of classifications to be replaced\n",
        "# use the variable name `classifications_to_replace`\n",
        "classifications_to_replace = list(classification_types.iloc[5:].index)\n",
        "cutoff_value_classifications = 1883\n",
        "\n",
        "# Replace in dataframe\n",
        "for cls in classifications_to_replace:\n",
        "    application_df['CLASSIFICATION'] = application_df['CLASSIFICATION'].replace(cls,\"Other\")\n",
        "\n",
        "# Check to make sure binning was successful\n",
        "application_df['CLASSIFICATION'].value_counts()"
      ]
    },
    {
      "cell_type": "code",
      "execution_count": 8,
      "metadata": {
        "id": "XRIqv5B7xrYq"
      },
      "outputs": [],
      "source": [
        "# Convert categorical data to numeric with `pd.get_dummies`\n",
        "dummies_df = pd.get_dummies(application_df)\n",
        "# dummies_df.head()"
      ]
    },
    {
      "cell_type": "code",
      "execution_count": 9,
      "metadata": {
        "id": "c9jJQZobxrYq"
      },
      "outputs": [],
      "source": [
        "# Split our preprocessed data into our features and target arrays\n",
        "y = dummies_df['IS_SUCCESSFUL'].values\n",
        "X = dummies_df.drop(columns='IS_SUCCESSFUL').values\n",
        "\n",
        "# Split the preprocessed data into a training and testing dataset\n",
        "X_train, X_test, y_train, y_test = train_test_split(X, y)"
      ]
    },
    {
      "cell_type": "code",
      "execution_count": 10,
      "metadata": {
        "id": "wRF8dyeuxrYr"
      },
      "outputs": [],
      "source": [
        "# Create a StandardScaler instances\n",
        "scaler = StandardScaler()\n",
        "\n",
        "# Fit the StandardScaler\n",
        "X_scaler = scaler.fit(X_train)\n",
        "\n",
        "# Scale the data\n",
        "X_train_scaled = X_scaler.transform(X_train)\n",
        "X_test_scaled = X_scaler.transform(X_test)"
      ]
    },
    {
      "cell_type": "markdown",
      "metadata": {
        "id": "nTgoFgjTxrYr"
      },
      "source": [
        "## Attempt 2"
      ]
    },
    {
      "cell_type": "code",
      "execution_count": 11,
      "metadata": {
        "colab": {
          "base_uri": "https://localhost:8080/"
        },
        "id": "7Z2HfOaAxrYr",
        "outputId": "ec7d3de4-d7f5-4701-9882-442863ffaaa3"
      },
      "outputs": [
        {
          "output_type": "stream",
          "name": "stdout",
          "text": [
            "Model: \"sequential\"\n",
            "_________________________________________________________________\n",
            " Layer (type)                Output Shape              Param #   \n",
            "=================================================================\n",
            " dense (Dense)               (None, 467)               19147     \n",
            "                                                                 \n",
            " dense_1 (Dense)             (None, 192)               89856     \n",
            "                                                                 \n",
            " dense_2 (Dense)             (None, 86)                16598     \n",
            "                                                                 \n",
            " dense_3 (Dense)             (None, 1)                 87        \n",
            "                                                                 \n",
            "=================================================================\n",
            "Total params: 125688 (490.97 KB)\n",
            "Trainable params: 125688 (490.97 KB)\n",
            "Non-trainable params: 0 (0.00 Byte)\n",
            "_________________________________________________________________\n"
          ]
        }
      ],
      "source": [
        "# Define the model - deep neural net, i.e., the number of input features and hidden nodes for each layer.\n",
        "input_features_total = len(X_train[0])\n",
        "hidden_nodes_layer1 = 467\n",
        "hidden_nodes_layer2 = 192\n",
        "hidden_nodes_layer3 = 86\n",
        "\n",
        "nn = tf.keras.models.Sequential()\n",
        "\n",
        "# First hidden layer\n",
        "nn.add(tf.keras.layers.Dense(units=hidden_nodes_layer1, input_dim = input_features_total, activation = \"relu\"))\n",
        "\n",
        "# Second hidden layer\n",
        "nn.add(tf.keras.layers.Dense(units=hidden_nodes_layer2, activation = \"relu\"))\n",
        "\n",
        "# Third hidden layer\n",
        "nn.add(tf.keras.layers.Dense(units=hidden_nodes_layer3, activation = \"relu\"))\n",
        "\n",
        "# Output layer\n",
        "nn.add(tf.keras.layers.Dense(units=1, activation=\"sigmoid\"))\n",
        "\n",
        "# Check the structure of the model\n",
        "nn.summary()"
      ]
    },
    {
      "cell_type": "code",
      "execution_count": 12,
      "metadata": {
        "id": "e8_XVn96xrYr"
      },
      "outputs": [],
      "source": [
        "# Compile the model\n",
        "nn.compile(loss=\"binary_crossentropy\", optimizer=\"adam\", metrics=[\"accuracy\"])"
      ]
    },
    {
      "cell_type": "code",
      "execution_count": 13,
      "metadata": {
        "colab": {
          "base_uri": "https://localhost:8080/"
        },
        "id": "Vyb3nQ-4xrYr",
        "outputId": "47e7e407-f0c3-4370-ccec-15f2106f2f4c"
      },
      "outputs": [
        {
          "output_type": "stream",
          "name": "stdout",
          "text": [
            "Epoch 1/90\n",
            "804/804 [==============================] - 5s 4ms/step - loss: 0.5715 - accuracy: 0.7205\n",
            "Epoch 2/90\n",
            "804/804 [==============================] - 3s 4ms/step - loss: 0.5601 - accuracy: 0.7263\n",
            "Epoch 3/90\n",
            "804/804 [==============================] - 3s 4ms/step - loss: 0.5561 - accuracy: 0.7283\n",
            "Epoch 4/90\n",
            "804/804 [==============================] - 4s 5ms/step - loss: 0.5545 - accuracy: 0.7292\n",
            "Epoch 5/90\n",
            "804/804 [==============================] - 3s 4ms/step - loss: 0.5535 - accuracy: 0.7301\n",
            "Epoch 6/90\n",
            "804/804 [==============================] - 3s 4ms/step - loss: 0.5521 - accuracy: 0.7291\n",
            "Epoch 7/90\n",
            "804/804 [==============================] - 4s 5ms/step - loss: 0.5516 - accuracy: 0.7318\n",
            "Epoch 8/90\n",
            "804/804 [==============================] - 4s 4ms/step - loss: 0.5505 - accuracy: 0.7314\n",
            "Epoch 9/90\n",
            "804/804 [==============================] - 3s 4ms/step - loss: 0.5500 - accuracy: 0.7315\n",
            "Epoch 10/90\n",
            "804/804 [==============================] - 3s 4ms/step - loss: 0.5501 - accuracy: 0.7309\n",
            "Epoch 11/90\n",
            "804/804 [==============================] - 4s 5ms/step - loss: 0.5485 - accuracy: 0.7340\n",
            "Epoch 12/90\n",
            "804/804 [==============================] - 3s 4ms/step - loss: 0.5486 - accuracy: 0.7320\n",
            "Epoch 13/90\n",
            "804/804 [==============================] - 3s 4ms/step - loss: 0.5483 - accuracy: 0.7329\n",
            "Epoch 14/90\n",
            "804/804 [==============================] - 3s 4ms/step - loss: 0.5477 - accuracy: 0.7326\n",
            "Epoch 15/90\n",
            "804/804 [==============================] - 4s 5ms/step - loss: 0.5467 - accuracy: 0.7329\n",
            "Epoch 16/90\n",
            "804/804 [==============================] - 3s 4ms/step - loss: 0.5470 - accuracy: 0.7330\n",
            "Epoch 17/90\n",
            "804/804 [==============================] - 3s 4ms/step - loss: 0.5463 - accuracy: 0.7340\n",
            "Epoch 18/90\n",
            "804/804 [==============================] - 4s 5ms/step - loss: 0.5458 - accuracy: 0.7346\n",
            "Epoch 19/90\n",
            "804/804 [==============================] - 3s 4ms/step - loss: 0.5461 - accuracy: 0.7336\n",
            "Epoch 20/90\n",
            "804/804 [==============================] - 3s 4ms/step - loss: 0.5456 - accuracy: 0.7344\n",
            "Epoch 21/90\n",
            "804/804 [==============================] - 4s 5ms/step - loss: 0.5451 - accuracy: 0.7346\n",
            "Epoch 22/90\n",
            "804/804 [==============================] - 5s 6ms/step - loss: 0.5449 - accuracy: 0.7346\n",
            "Epoch 23/90\n",
            "804/804 [==============================] - 3s 4ms/step - loss: 0.5449 - accuracy: 0.7346\n",
            "Epoch 24/90\n",
            "804/804 [==============================] - 3s 4ms/step - loss: 0.5441 - accuracy: 0.7359\n",
            "Epoch 25/90\n",
            "804/804 [==============================] - 4s 5ms/step - loss: 0.5436 - accuracy: 0.7358\n",
            "Epoch 26/90\n",
            "804/804 [==============================] - 3s 4ms/step - loss: 0.5435 - accuracy: 0.7347\n",
            "Epoch 27/90\n",
            "804/804 [==============================] - 3s 4ms/step - loss: 0.5433 - accuracy: 0.7352\n",
            "Epoch 28/90\n",
            "804/804 [==============================] - 4s 5ms/step - loss: 0.5432 - accuracy: 0.7353\n",
            "Epoch 29/90\n",
            "804/804 [==============================] - 4s 5ms/step - loss: 0.5434 - accuracy: 0.7358\n",
            "Epoch 30/90\n",
            "804/804 [==============================] - 3s 4ms/step - loss: 0.5428 - accuracy: 0.7357\n",
            "Epoch 31/90\n",
            "804/804 [==============================] - 3s 4ms/step - loss: 0.5427 - accuracy: 0.7361\n",
            "Epoch 32/90\n",
            "804/804 [==============================] - 4s 5ms/step - loss: 0.5423 - accuracy: 0.7358\n",
            "Epoch 33/90\n",
            "804/804 [==============================] - 3s 4ms/step - loss: 0.5426 - accuracy: 0.7367\n",
            "Epoch 34/90\n",
            "804/804 [==============================] - 3s 4ms/step - loss: 0.5424 - accuracy: 0.7361\n",
            "Epoch 35/90\n",
            "804/804 [==============================] - 3s 4ms/step - loss: 0.5416 - accuracy: 0.7351\n",
            "Epoch 36/90\n",
            "804/804 [==============================] - 4s 5ms/step - loss: 0.5420 - accuracy: 0.7360\n",
            "Epoch 37/90\n",
            "804/804 [==============================] - 3s 4ms/step - loss: 0.5418 - accuracy: 0.7360\n",
            "Epoch 38/90\n",
            "804/804 [==============================] - 3s 4ms/step - loss: 0.5410 - accuracy: 0.7361\n",
            "Epoch 39/90\n",
            "804/804 [==============================] - 4s 5ms/step - loss: 0.5409 - accuracy: 0.7360\n",
            "Epoch 40/90\n",
            "804/804 [==============================] - 4s 5ms/step - loss: 0.5414 - accuracy: 0.7358\n",
            "Epoch 41/90\n",
            "804/804 [==============================] - 3s 4ms/step - loss: 0.5406 - accuracy: 0.7369\n",
            "Epoch 42/90\n",
            "804/804 [==============================] - 3s 4ms/step - loss: 0.5408 - accuracy: 0.7374\n",
            "Epoch 43/90\n",
            "804/804 [==============================] - 4s 5ms/step - loss: 0.5403 - accuracy: 0.7369\n",
            "Epoch 44/90\n",
            "804/804 [==============================] - 3s 4ms/step - loss: 0.5404 - accuracy: 0.7365\n",
            "Epoch 45/90\n",
            "804/804 [==============================] - 3s 4ms/step - loss: 0.5404 - accuracy: 0.7377\n",
            "Epoch 46/90\n",
            "804/804 [==============================] - 3s 4ms/step - loss: 0.5398 - accuracy: 0.7368\n",
            "Epoch 47/90\n",
            "804/804 [==============================] - 4s 5ms/step - loss: 0.5400 - accuracy: 0.7368\n",
            "Epoch 48/90\n",
            "804/804 [==============================] - 3s 4ms/step - loss: 0.5415 - accuracy: 0.7370\n",
            "Epoch 49/90\n",
            "804/804 [==============================] - 3s 4ms/step - loss: 0.5399 - accuracy: 0.7371\n",
            "Epoch 50/90\n",
            "804/804 [==============================] - 4s 5ms/step - loss: 0.5395 - accuracy: 0.7375\n",
            "Epoch 51/90\n",
            "804/804 [==============================] - 4s 5ms/step - loss: 0.5394 - accuracy: 0.7375\n",
            "Epoch 52/90\n",
            "804/804 [==============================] - 6s 8ms/step - loss: 0.5397 - accuracy: 0.7374\n",
            "Epoch 53/90\n",
            "804/804 [==============================] - 8s 10ms/step - loss: 0.5394 - accuracy: 0.7376\n",
            "Epoch 54/90\n",
            "804/804 [==============================] - 6s 7ms/step - loss: 0.5393 - accuracy: 0.7373\n",
            "Epoch 55/90\n",
            "804/804 [==============================] - 4s 5ms/step - loss: 0.5401 - accuracy: 0.7374\n",
            "Epoch 56/90\n",
            "804/804 [==============================] - 3s 4ms/step - loss: 0.5398 - accuracy: 0.7373\n",
            "Epoch 57/90\n",
            "804/804 [==============================] - 3s 4ms/step - loss: 0.5389 - accuracy: 0.7373\n",
            "Epoch 58/90\n",
            "804/804 [==============================] - 4s 5ms/step - loss: 0.5384 - accuracy: 0.7374\n",
            "Epoch 59/90\n",
            "804/804 [==============================] - 3s 4ms/step - loss: 0.5392 - accuracy: 0.7377\n",
            "Epoch 60/90\n",
            "804/804 [==============================] - 3s 4ms/step - loss: 0.5388 - accuracy: 0.7377\n",
            "Epoch 61/90\n",
            "804/804 [==============================] - 3s 4ms/step - loss: 0.5594 - accuracy: 0.7368\n",
            "Epoch 62/90\n",
            "804/804 [==============================] - 4s 5ms/step - loss: 0.5394 - accuracy: 0.7371\n",
            "Epoch 63/90\n",
            "804/804 [==============================] - 3s 4ms/step - loss: 0.5380 - accuracy: 0.7376\n",
            "Epoch 64/90\n",
            "804/804 [==============================] - 3s 4ms/step - loss: 0.5379 - accuracy: 0.7374\n",
            "Epoch 65/90\n",
            "804/804 [==============================] - 4s 4ms/step - loss: 0.5381 - accuracy: 0.7380\n",
            "Epoch 66/90\n",
            "804/804 [==============================] - 4s 5ms/step - loss: 0.5381 - accuracy: 0.7378\n",
            "Epoch 67/90\n",
            "804/804 [==============================] - 3s 4ms/step - loss: 0.5379 - accuracy: 0.7381\n",
            "Epoch 68/90\n",
            "804/804 [==============================] - 3s 4ms/step - loss: 0.5382 - accuracy: 0.7380\n",
            "Epoch 69/90\n",
            "804/804 [==============================] - 4s 5ms/step - loss: 0.5380 - accuracy: 0.7381\n",
            "Epoch 70/90\n",
            "804/804 [==============================] - 3s 4ms/step - loss: 0.5373 - accuracy: 0.7382\n",
            "Epoch 71/90\n",
            "804/804 [==============================] - 3s 4ms/step - loss: 0.5380 - accuracy: 0.7381\n",
            "Epoch 72/90\n",
            "804/804 [==============================] - 3s 4ms/step - loss: 0.5388 - accuracy: 0.7372\n",
            "Epoch 73/90\n",
            "804/804 [==============================] - 4s 5ms/step - loss: 0.5379 - accuracy: 0.7376\n",
            "Epoch 74/90\n",
            "804/804 [==============================] - 3s 4ms/step - loss: 0.5377 - accuracy: 0.7374\n",
            "Epoch 75/90\n",
            "804/804 [==============================] - 4s 5ms/step - loss: 0.5375 - accuracy: 0.7371\n",
            "Epoch 76/90\n",
            "804/804 [==============================] - 5s 6ms/step - loss: 0.5376 - accuracy: 0.7385\n",
            "Epoch 77/90\n",
            "804/804 [==============================] - 3s 4ms/step - loss: 0.5373 - accuracy: 0.7376\n",
            "Epoch 78/90\n",
            "804/804 [==============================] - 3s 4ms/step - loss: 0.5384 - accuracy: 0.7374\n",
            "Epoch 79/90\n",
            "804/804 [==============================] - 4s 5ms/step - loss: 0.5384 - accuracy: 0.7372\n",
            "Epoch 80/90\n",
            "804/804 [==============================] - 4s 5ms/step - loss: 0.5370 - accuracy: 0.7379\n",
            "Epoch 81/90\n",
            "804/804 [==============================] - 4s 5ms/step - loss: 0.5393 - accuracy: 0.7374\n",
            "Epoch 82/90\n",
            "804/804 [==============================] - 4s 5ms/step - loss: 0.5373 - accuracy: 0.7383\n",
            "Epoch 83/90\n",
            "804/804 [==============================] - 4s 5ms/step - loss: 0.5372 - accuracy: 0.7381\n",
            "Epoch 84/90\n",
            "804/804 [==============================] - 3s 4ms/step - loss: 0.5374 - accuracy: 0.7376\n",
            "Epoch 85/90\n",
            "804/804 [==============================] - 3s 4ms/step - loss: 0.5373 - accuracy: 0.7377\n",
            "Epoch 86/90\n",
            "804/804 [==============================] - 4s 5ms/step - loss: 0.5394 - accuracy: 0.7379\n",
            "Epoch 87/90\n",
            "804/804 [==============================] - 3s 4ms/step - loss: 0.5370 - accuracy: 0.7374\n",
            "Epoch 88/90\n",
            "804/804 [==============================] - 3s 4ms/step - loss: 0.5368 - accuracy: 0.7386\n",
            "Epoch 89/90\n",
            "804/804 [==============================] - 3s 4ms/step - loss: 0.5384 - accuracy: 0.7379\n",
            "Epoch 90/90\n",
            "804/804 [==============================] - 4s 5ms/step - loss: 0.5381 - accuracy: 0.7380\n"
          ]
        }
      ],
      "source": [
        "# Train the model\n",
        "fit_model = nn.fit(X_train_scaled, y_train, epochs=90)"
      ]
    },
    {
      "cell_type": "code",
      "execution_count": 14,
      "metadata": {
        "colab": {
          "base_uri": "https://localhost:8080/"
        },
        "id": "e_lg-ZeFxrYr",
        "outputId": "aea0c05c-d006-4417-8de4-d76cce7d6198"
      },
      "outputs": [
        {
          "output_type": "stream",
          "name": "stdout",
          "text": [
            "268/268 - 1s - loss: 0.5709 - accuracy: 0.7369 - 595ms/epoch - 2ms/step\n",
            "Loss: 0.5709223747253418, Accuracy: 0.7369096279144287\n"
          ]
        }
      ],
      "source": [
        "# Evaluate the model using the test data\n",
        "model_loss, model_accuracy = nn.evaluate(X_test_scaled,y_test,verbose=2)\n",
        "print(f\"Loss: {model_loss}, Accuracy: {model_accuracy}\")"
      ]
    },
    {
      "cell_type": "code",
      "execution_count": 15,
      "metadata": {
        "colab": {
          "base_uri": "https://localhost:8080/",
          "height": 72
        },
        "id": "7veAxFNWxrYr",
        "outputId": "97f97ced-1ddb-45ad-b482-d0c8e05cf375"
      },
      "outputs": [
        {
          "output_type": "stream",
          "name": "stderr",
          "text": [
            "/usr/local/lib/python3.10/dist-packages/keras/src/engine/training.py:3000: UserWarning: You are saving your model as an HDF5 file via `model.save()`. This file format is considered legacy. We recommend using instead the native Keras format, e.g. `model.save('my_model.keras')`.\n",
            "  saving_api.save_model(\n"
          ]
        },
        {
          "output_type": "display_data",
          "data": {
            "text/plain": [
              "<IPython.core.display.Javascript object>"
            ],
            "application/javascript": [
              "\n",
              "    async function download(id, filename, size) {\n",
              "      if (!google.colab.kernel.accessAllowed) {\n",
              "        return;\n",
              "      }\n",
              "      const div = document.createElement('div');\n",
              "      const label = document.createElement('label');\n",
              "      label.textContent = `Downloading \"${filename}\": `;\n",
              "      div.appendChild(label);\n",
              "      const progress = document.createElement('progress');\n",
              "      progress.max = size;\n",
              "      div.appendChild(progress);\n",
              "      document.body.appendChild(div);\n",
              "\n",
              "      const buffers = [];\n",
              "      let downloaded = 0;\n",
              "\n",
              "      const channel = await google.colab.kernel.comms.open(id);\n",
              "      // Send a message to notify the kernel that we're ready.\n",
              "      channel.send({})\n",
              "\n",
              "      for await (const message of channel.messages) {\n",
              "        // Send a message to notify the kernel that we're ready.\n",
              "        channel.send({})\n",
              "        if (message.buffers) {\n",
              "          for (const buffer of message.buffers) {\n",
              "            buffers.push(buffer);\n",
              "            downloaded += buffer.byteLength;\n",
              "            progress.value = downloaded;\n",
              "          }\n",
              "        }\n",
              "      }\n",
              "      const blob = new Blob(buffers, {type: 'application/binary'});\n",
              "      const a = document.createElement('a');\n",
              "      a.href = window.URL.createObjectURL(blob);\n",
              "      a.download = filename;\n",
              "      div.appendChild(a);\n",
              "      a.click();\n",
              "      div.remove();\n",
              "    }\n",
              "  "
            ]
          },
          "metadata": {}
        },
        {
          "output_type": "display_data",
          "data": {
            "text/plain": [
              "<IPython.core.display.Javascript object>"
            ],
            "application/javascript": [
              "download(\"download_be6d6090-7e6a-474e-8b6d-96697ea9fa59\", \"AlphabetSoupCharity_OP2.h5\", 1549328)"
            ]
          },
          "metadata": {}
        }
      ],
      "source": [
        "# Export our model to HDF5 file\n",
        "from google.colab import files\n",
        "\n",
        "nn.save('/HDF5_saves/AlphabetSoupCharity_OP2.h5')\n",
        "files.download('/HDF5_saves/AlphabetSoupCharity_OP2.h5')"
      ]
    }
  ],
  "metadata": {
    "kernelspec": {
      "display_name": "Python 3",
      "language": "python",
      "name": "python3"
    },
    "language_info": {
      "codemirror_mode": {
        "name": "ipython",
        "version": 3
      },
      "file_extension": ".py",
      "mimetype": "text/x-python",
      "name": "python",
      "nbconvert_exporter": "python",
      "pygments_lexer": "ipython3",
      "version": "3.-1.-1"
    },
    "vscode": {
      "interpreter": {
        "hash": "31f2aee4e71d21fbe5cf8b01ff0e069b9275f58929596ceb00d14d90e3e16cd6"
      }
    },
    "colab": {
      "provenance": []
    }
  },
  "nbformat": 4,
  "nbformat_minor": 0
}